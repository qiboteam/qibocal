{
 "cells": [
  {
   "cell_type": "code",
   "execution_count": 1,
   "metadata": {},
   "outputs": [],
   "source": [
    "import numpy as np\n",
    "import matplotlib.pyplot as plt"
   ]
  },
  {
   "cell_type": "markdown",
   "metadata": {},
   "source": [
    "## RX($\\pi$)"
   ]
  },
  {
   "cell_type": "code",
   "execution_count": null,
   "metadata": {},
   "outputs": [],
   "source": [
    "#Define paramters\n",
    "A_min = 0\n",
    "A_max = 0.4\n",
    "A_step = 0.002\n",
    "A = np.linspace(A_min, A_max, A_step)\n",
    "\n",
    "t = 1\n",
    "\n",
    "omega_q_min = -100000000\n",
    "omega_q_max = 100000000\n",
    "omega_q_step = 1000000\n",
    "omega_q = np.linspace(omega_q_min, omega_q_max, omega_q_step)\n",
    "\n",
    "omega_d = 1\n",
    "\n",
    "A_grid, omega_q_grid = np.meshgrid(A, omega_q)\n",
    "Delta_d = omega_q_grid - omega_d\n",
    "\n",
    "Omega_R = np.sqrt(A_grid**2 + Delta_d**2)\n",
    "\n",
    "# Compute Pe(t)\n",
    "Pe = (A_grid**2) * (Omega_R**2) * np.sin((Omega_R / 2) * t)**2"
   ]
  },
  {
   "cell_type": "code",
   "execution_count": null,
   "metadata": {},
   "outputs": [],
   "source": [
    "plt.figure(figsize=(10, 7))\n",
    "plt.contourf(A_grid, Delta_d, Pe, levels=100, cmap='plasma')\n",
    "plt.colorbar(label=r'$P_e$ (Color)')\n",
    "plt.title(r'Heatmap of $P_e$ vs $A$ and $\\Delta_d$')\n",
    "plt.xlabel(r'$A$ (Amplitude)')\n",
    "plt.ylabel(r'$\\Delta_d$ (Detuning)')\n",
    "plt.show()"
   ]
  },
  {
   "cell_type": "markdown",
   "metadata": {},
   "source": [
    "## RX($\\pi$/2)"
   ]
  },
  {
   "cell_type": "markdown",
   "metadata": {},
   "source": []
  }
 ],
 "metadata": {
  "kernelspec": {
   "display_name": "calibration",
   "language": "python",
   "name": "python3"
  },
  "language_info": {
   "codemirror_mode": {
    "name": "ipython",
    "version": 3
   },
   "file_extension": ".py",
   "mimetype": "text/x-python",
   "name": "python",
   "nbconvert_exporter": "python",
   "pygments_lexer": "ipython3",
   "version": "3.10.12"
  }
 },
 "nbformat": 4,
 "nbformat_minor": 2
}
